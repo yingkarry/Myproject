{
 "cells": [
  {
   "cell_type": "code",
   "outputs": [
    {
     "ename": "ImportError",
     "evalue": "DLL load failed while importing _multiarray_umath: 找不到指定的模块。",
     "output_type": "error",
     "traceback": [
      "\u001B[1;31m---------------------------------------------------------------------------\u001B[0m",
      "\u001B[1;31mImportError\u001B[0m                               Traceback (most recent call last)",
      "\u001B[1;31mImportError\u001B[0m: DLL load failed while importing _multiarray_umath: 找不到指定的模块。"
     ]
    },
    {
     "ename": "ImportError",
     "evalue": "numpy._core.multiarray failed to import",
     "output_type": "error",
     "traceback": [
      "\u001B[1;31m---------------------------------------------------------------------------\u001B[0m",
      "\u001B[1;31mImportError\u001B[0m                               Traceback (most recent call last)",
      "Cell \u001B[1;32mIn[17], line 1\u001B[0m\n\u001B[1;32m----> 1\u001B[0m \u001B[38;5;28;01mimport\u001B[39;00m \u001B[38;5;21;01mpandas\u001B[39;00m \u001B[38;5;28;01mas\u001B[39;00m \u001B[38;5;21;01mpd\u001B[39;00m\n\u001B[0;32m      3\u001B[0m \u001B[38;5;66;03m# 读取两个CSV文件\u001B[39;00m\n\u001B[0;32m      4\u001B[0m log1 \u001B[38;5;241m=\u001B[39m pd\u001B[38;5;241m.\u001B[39mread_csv(\u001B[38;5;124m'\u001B[39m\u001B[38;5;124mF:/PyCharm/Project/YOLOv11_2025/runs/train/TT100K13/results.csv\u001B[39m\u001B[38;5;124m'\u001B[39m)\n",
      "File \u001B[1;32mE:\\Anaconda\\anaconda\\envs\\my-tt100k\\Lib\\site-packages\\pandas\\__init__.py:62\u001B[0m\n\u001B[0;32m     59\u001B[0m \u001B[38;5;66;03m# let init-time option registration happen\u001B[39;00m\n\u001B[0;32m     60\u001B[0m \u001B[38;5;28;01mimport\u001B[39;00m \u001B[38;5;21;01mpandas\u001B[39;00m\u001B[38;5;21;01m.\u001B[39;00m\u001B[38;5;21;01mcore\u001B[39;00m\u001B[38;5;21;01m.\u001B[39;00m\u001B[38;5;21;01mconfig_init\u001B[39;00m  \u001B[38;5;66;03m# pyright: ignore[reportUnusedImport] # noqa: F401\u001B[39;00m\n\u001B[1;32m---> 62\u001B[0m \u001B[38;5;28;01mfrom\u001B[39;00m \u001B[38;5;21;01mpandas\u001B[39;00m\u001B[38;5;21;01m.\u001B[39;00m\u001B[38;5;21;01mcore\u001B[39;00m\u001B[38;5;21;01m.\u001B[39;00m\u001B[38;5;21;01mapi\u001B[39;00m \u001B[38;5;28;01mimport\u001B[39;00m (\n\u001B[0;32m     63\u001B[0m     \u001B[38;5;66;03m# dtype\u001B[39;00m\n\u001B[0;32m     64\u001B[0m     ArrowDtype,\n\u001B[0;32m     65\u001B[0m     Int8Dtype,\n\u001B[0;32m     66\u001B[0m     Int16Dtype,\n\u001B[0;32m     67\u001B[0m     Int32Dtype,\n\u001B[0;32m     68\u001B[0m     Int64Dtype,\n\u001B[0;32m     69\u001B[0m     UInt8Dtype,\n\u001B[0;32m     70\u001B[0m     UInt16Dtype,\n\u001B[0;32m     71\u001B[0m     UInt32Dtype,\n\u001B[0;32m     72\u001B[0m     UInt64Dtype,\n\u001B[0;32m     73\u001B[0m     Float32Dtype,\n\u001B[0;32m     74\u001B[0m     Float64Dtype,\n\u001B[0;32m     75\u001B[0m     CategoricalDtype,\n\u001B[0;32m     76\u001B[0m     PeriodDtype,\n\u001B[0;32m     77\u001B[0m     IntervalDtype,\n\u001B[0;32m     78\u001B[0m     DatetimeTZDtype,\n\u001B[0;32m     79\u001B[0m     StringDtype,\n\u001B[0;32m     80\u001B[0m     BooleanDtype,\n\u001B[0;32m     81\u001B[0m     \u001B[38;5;66;03m# missing\u001B[39;00m\n\u001B[0;32m     82\u001B[0m     NA,\n\u001B[0;32m     83\u001B[0m     isna,\n\u001B[0;32m     84\u001B[0m     isnull,\n\u001B[0;32m     85\u001B[0m     notna,\n\u001B[0;32m     86\u001B[0m     notnull,\n\u001B[0;32m     87\u001B[0m     \u001B[38;5;66;03m# indexes\u001B[39;00m\n\u001B[0;32m     88\u001B[0m     Index,\n\u001B[0;32m     89\u001B[0m     CategoricalIndex,\n\u001B[0;32m     90\u001B[0m     RangeIndex,\n\u001B[0;32m     91\u001B[0m     MultiIndex,\n\u001B[0;32m     92\u001B[0m     IntervalIndex,\n\u001B[0;32m     93\u001B[0m     TimedeltaIndex,\n\u001B[0;32m     94\u001B[0m     DatetimeIndex,\n\u001B[0;32m     95\u001B[0m     PeriodIndex,\n\u001B[0;32m     96\u001B[0m     IndexSlice,\n\u001B[0;32m     97\u001B[0m     \u001B[38;5;66;03m# tseries\u001B[39;00m\n\u001B[0;32m     98\u001B[0m     NaT,\n\u001B[0;32m     99\u001B[0m     Period,\n\u001B[0;32m    100\u001B[0m     period_range,\n\u001B[0;32m    101\u001B[0m     Timedelta,\n\u001B[0;32m    102\u001B[0m     timedelta_range,\n\u001B[0;32m    103\u001B[0m     Timestamp,\n\u001B[0;32m    104\u001B[0m     date_range,\n\u001B[0;32m    105\u001B[0m     bdate_range,\n\u001B[0;32m    106\u001B[0m     Interval,\n\u001B[0;32m    107\u001B[0m     interval_range,\n\u001B[0;32m    108\u001B[0m     DateOffset,\n\u001B[0;32m    109\u001B[0m     \u001B[38;5;66;03m# conversion\u001B[39;00m\n\u001B[0;32m    110\u001B[0m     to_numeric,\n\u001B[0;32m    111\u001B[0m     to_datetime,\n\u001B[0;32m    112\u001B[0m     to_timedelta,\n\u001B[0;32m    113\u001B[0m     \u001B[38;5;66;03m# misc\u001B[39;00m\n\u001B[0;32m    114\u001B[0m     Flags,\n\u001B[0;32m    115\u001B[0m     Grouper,\n\u001B[0;32m    116\u001B[0m     factorize,\n\u001B[0;32m    117\u001B[0m     unique,\n\u001B[0;32m    118\u001B[0m     value_counts,\n\u001B[0;32m    119\u001B[0m     NamedAgg,\n\u001B[0;32m    120\u001B[0m     array,\n\u001B[0;32m    121\u001B[0m     Categorical,\n\u001B[0;32m    122\u001B[0m     set_eng_float_format,\n\u001B[0;32m    123\u001B[0m     Series,\n\u001B[0;32m    124\u001B[0m     DataFrame,\n\u001B[0;32m    125\u001B[0m )\n\u001B[0;32m    127\u001B[0m \u001B[38;5;28;01mfrom\u001B[39;00m \u001B[38;5;21;01mpandas\u001B[39;00m\u001B[38;5;21;01m.\u001B[39;00m\u001B[38;5;21;01mcore\u001B[39;00m\u001B[38;5;21;01m.\u001B[39;00m\u001B[38;5;21;01mdtypes\u001B[39;00m\u001B[38;5;21;01m.\u001B[39;00m\u001B[38;5;21;01mdtypes\u001B[39;00m \u001B[38;5;28;01mimport\u001B[39;00m SparseDtype\n\u001B[0;32m    129\u001B[0m \u001B[38;5;28;01mfrom\u001B[39;00m \u001B[38;5;21;01mpandas\u001B[39;00m\u001B[38;5;21;01m.\u001B[39;00m\u001B[38;5;21;01mtseries\u001B[39;00m\u001B[38;5;21;01m.\u001B[39;00m\u001B[38;5;21;01mapi\u001B[39;00m \u001B[38;5;28;01mimport\u001B[39;00m infer_freq\n",
      "File \u001B[1;32mE:\\Anaconda\\anaconda\\envs\\my-tt100k\\Lib\\site-packages\\pandas\\core\\api.py:1\u001B[0m\n\u001B[1;32m----> 1\u001B[0m \u001B[38;5;28;01mfrom\u001B[39;00m \u001B[38;5;21;01mpandas\u001B[39;00m\u001B[38;5;21;01m.\u001B[39;00m\u001B[38;5;21;01m_libs\u001B[39;00m \u001B[38;5;28;01mimport\u001B[39;00m (\n\u001B[0;32m      2\u001B[0m     NaT,\n\u001B[0;32m      3\u001B[0m     Period,\n\u001B[0;32m      4\u001B[0m     Timedelta,\n\u001B[0;32m      5\u001B[0m     Timestamp,\n\u001B[0;32m      6\u001B[0m )\n\u001B[0;32m      7\u001B[0m \u001B[38;5;28;01mfrom\u001B[39;00m \u001B[38;5;21;01mpandas\u001B[39;00m\u001B[38;5;21;01m.\u001B[39;00m\u001B[38;5;21;01m_libs\u001B[39;00m\u001B[38;5;21;01m.\u001B[39;00m\u001B[38;5;21;01mmissing\u001B[39;00m \u001B[38;5;28;01mimport\u001B[39;00m NA\n\u001B[0;32m      9\u001B[0m \u001B[38;5;28;01mfrom\u001B[39;00m \u001B[38;5;21;01mpandas\u001B[39;00m\u001B[38;5;21;01m.\u001B[39;00m\u001B[38;5;21;01mcore\u001B[39;00m\u001B[38;5;21;01m.\u001B[39;00m\u001B[38;5;21;01mdtypes\u001B[39;00m\u001B[38;5;21;01m.\u001B[39;00m\u001B[38;5;21;01mdtypes\u001B[39;00m \u001B[38;5;28;01mimport\u001B[39;00m (\n\u001B[0;32m     10\u001B[0m     ArrowDtype,\n\u001B[0;32m     11\u001B[0m     CategoricalDtype,\n\u001B[1;32m   (...)\u001B[0m\n\u001B[0;32m     14\u001B[0m     PeriodDtype,\n\u001B[0;32m     15\u001B[0m )\n",
      "File \u001B[1;32mE:\\Anaconda\\anaconda\\envs\\my-tt100k\\Lib\\site-packages\\pandas\\_libs\\__init__.py:17\u001B[0m\n\u001B[0;32m     13\u001B[0m \u001B[38;5;66;03m# Below imports needs to happen first to ensure pandas top level\u001B[39;00m\n\u001B[0;32m     14\u001B[0m \u001B[38;5;66;03m# module gets monkeypatched with the pandas_datetime_CAPI\u001B[39;00m\n\u001B[0;32m     15\u001B[0m \u001B[38;5;66;03m# see pandas_datetime_exec in pd_datetime.c\u001B[39;00m\n\u001B[0;32m     16\u001B[0m \u001B[38;5;28;01mimport\u001B[39;00m \u001B[38;5;21;01mpandas\u001B[39;00m\u001B[38;5;21;01m.\u001B[39;00m\u001B[38;5;21;01m_libs\u001B[39;00m\u001B[38;5;21;01m.\u001B[39;00m\u001B[38;5;21;01mpandas_parser\u001B[39;00m  \u001B[38;5;66;03m# isort: skip # type: ignore[reportUnusedImport]\u001B[39;00m\n\u001B[1;32m---> 17\u001B[0m \u001B[38;5;28;01mimport\u001B[39;00m \u001B[38;5;21;01mpandas\u001B[39;00m\u001B[38;5;21;01m.\u001B[39;00m\u001B[38;5;21;01m_libs\u001B[39;00m\u001B[38;5;21;01m.\u001B[39;00m\u001B[38;5;21;01mpandas_datetime\u001B[39;00m  \u001B[38;5;66;03m# noqa: F401 # isort: skip # type: ignore[reportUnusedImport]\u001B[39;00m\n\u001B[0;32m     18\u001B[0m \u001B[38;5;28;01mfrom\u001B[39;00m \u001B[38;5;21;01mpandas\u001B[39;00m\u001B[38;5;21;01m.\u001B[39;00m\u001B[38;5;21;01m_libs\u001B[39;00m\u001B[38;5;21;01m.\u001B[39;00m\u001B[38;5;21;01minterval\u001B[39;00m \u001B[38;5;28;01mimport\u001B[39;00m Interval\n\u001B[0;32m     19\u001B[0m \u001B[38;5;28;01mfrom\u001B[39;00m \u001B[38;5;21;01mpandas\u001B[39;00m\u001B[38;5;21;01m.\u001B[39;00m\u001B[38;5;21;01m_libs\u001B[39;00m\u001B[38;5;21;01m.\u001B[39;00m\u001B[38;5;21;01mtslibs\u001B[39;00m \u001B[38;5;28;01mimport\u001B[39;00m (\n\u001B[0;32m     20\u001B[0m     NaT,\n\u001B[0;32m     21\u001B[0m     NaTType,\n\u001B[1;32m   (...)\u001B[0m\n\u001B[0;32m     26\u001B[0m     iNaT,\n\u001B[0;32m     27\u001B[0m )\n",
      "\u001B[1;31mImportError\u001B[0m: numpy._core.multiarray failed to import"
     ]
    }
   ],
   "source": [
    "import warnings\n",
    "warnings.filterwarnings('ignore')\n",
    "from ultralytics import RTDETR\n",
    " \n",
    "if __name__ == '__main__':\n",
    "    model = RTDETR('yolo11-AIFI-DETR.yaml') # 续训yaml文件的地方改为lats.pt的地址,需要注意的是如果你设置训练200轮次模型训练了200轮次是没有办法进行续训的.\n",
    "    # 如何切换模型版本, 上面的ymal文件可以改为 yolov11s.yaml就是使用的v11s,\n",
    "    # 类似某个改进的yaml文件名称为yolov11-XXX.yaml那么如果想使用其它版本就把上面的名称改为yolov11l-XXX.yaml即可（改的是上面YOLO中间的名字不是配置文件的）！\n",
    "    # model.load('yolov11n.pt') # 是否加载预训练权重,科研不建议大家加载否则很难提升精度\n",
    "    model.train(data=r\"C:\\Users\\Administrator\\Desktop\\20240521\\YOLOv8.2\\SpotGEO2YOLO\\data.yaml\",\n",
    "                # 如果大家任务是其它的'ultralytics/cfg/default.yaml'找到这里修改task可以改成detect, segment, classify, pose\n",
    "                cache=False,\n",
    "                imgsz=640,\n",
    "                epochs=100,\n",
    "                single_cls=False,  # 是否是单类别检测\n",
    "                batch=4,\n",
    "                close_mosaic=0,\n",
    "                workers=0,\n",
    "                device='0',\n",
    "                optimizer='SGD', # using SGD 优化器 默认为auto建议大家使用固定的.\n",
    "                # resume=, # 续训的话这里填写True\n",
    "                amp=True,  # 如果出现训练损失为Nan可以关闭amp\n",
    "                project='runs/train',\n",
    "                name='exp',\n",
    "                )\n",
    " "
   ],
   "metadata": {
    "collapsed": false,
    "ExecuteTime": {
     "end_time": "2025-02-24T07:53:35.864662800Z",
     "start_time": "2025-02-24T07:53:35.796300200Z"
    }
   },
   "id": "9e11cdb734468795",
   "execution_count": 17
  },
  {
   "cell_type": "code",
   "outputs": [],
   "source": [],
   "metadata": {
    "collapsed": false
   },
   "id": "d6728a09d61416d3"
  }
 ],
 "metadata": {
  "kernelspec": {
   "display_name": "Python 3",
   "language": "python",
   "name": "python3"
  },
  "language_info": {
   "codemirror_mode": {
    "name": "ipython",
    "version": 2
   },
   "file_extension": ".py",
   "mimetype": "text/x-python",
   "name": "python",
   "nbconvert_exporter": "python",
   "pygments_lexer": "ipython2",
   "version": "2.7.6"
  }
 },
 "nbformat": 4,
 "nbformat_minor": 5
}
